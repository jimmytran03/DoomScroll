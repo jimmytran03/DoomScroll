{
 "cells": [
  {
   "cell_type": "code",
   "execution_count": null,
   "id": "15547d5b",
   "metadata": {},
   "outputs": [],
   "source": [
    "# Doomscrolling Detector 🕵️‍♂️\n",
    "Detect when a user is doomscrolling based on simulated phone/social media usage data. "
   ]
  },
  {
   "cell_type": "code",
   "execution_count": null,
   "id": "fea610fd",
   "metadata": {},
   "outputs": [],
   "source": [
    "## 1. Import Libraries"
   ]
  },
  {
   "cell_type": "code",
   "execution_count": 3,
   "id": "1e326165",
   "metadata": {
    "scrolled": true
   },
   "outputs": [],
   "source": [
    "import numpy as np\n",
    "import pandas as pd\n",
    "from sklearn.model_selection import train_test_split\n",
    "from sklearn.linear_model import LogisticRegression\n",
    "from sklearn.metrics import classification_report, confusion_matrix\n",
    "import random"
   ]
  },
  {
   "cell_type": "code",
   "execution_count": 4,
   "id": "2f4df722",
   "metadata": {},
   "outputs": [],
   "source": [
    "## 2. Simulate Data"
   ]
  },
  {
   "cell_type": "code",
   "execution_count": 5,
   "id": "e9c79025",
   "metadata": {
    "scrolled": true
   },
   "outputs": [
    {
     "data": {
      "text/html": [
       "<div>\n",
       "<style scoped>\n",
       "    .dataframe tbody tr th:only-of-type {\n",
       "        vertical-align: middle;\n",
       "    }\n",
       "\n",
       "    .dataframe tbody tr th {\n",
       "        vertical-align: top;\n",
       "    }\n",
       "\n",
       "    .dataframe thead th {\n",
       "        text-align: right;\n",
       "    }\n",
       "</style>\n",
       "<table border=\"1\" class=\"dataframe\">\n",
       "  <thead>\n",
       "    <tr style=\"text-align: right;\">\n",
       "      <th></th>\n",
       "      <th>time_of_day</th>\n",
       "      <th>hour</th>\n",
       "      <th>scrolling_speed</th>\n",
       "      <th>num_scrolls</th>\n",
       "      <th>session_length</th>\n",
       "      <th>keywords</th>\n",
       "      <th>sentiment</th>\n",
       "      <th>doomscrolling</th>\n",
       "    </tr>\n",
       "  </thead>\n",
       "  <tbody>\n",
       "    <tr>\n",
       "      <th>0</th>\n",
       "      <td>06:51</td>\n",
       "      <td>6</td>\n",
       "      <td>fast</td>\n",
       "      <td>290</td>\n",
       "      <td>76</td>\n",
       "      <td>recipe,cat,weather</td>\n",
       "      <td>positive</td>\n",
       "      <td>0</td>\n",
       "    </tr>\n",
       "    <tr>\n",
       "      <th>1</th>\n",
       "      <td>18:22</td>\n",
       "      <td>18</td>\n",
       "      <td>fast</td>\n",
       "      <td>478</td>\n",
       "      <td>28</td>\n",
       "      <td>sports</td>\n",
       "      <td>positive</td>\n",
       "      <td>0</td>\n",
       "    </tr>\n",
       "    <tr>\n",
       "      <th>2</th>\n",
       "      <td>01:23</td>\n",
       "      <td>1</td>\n",
       "      <td>slow</td>\n",
       "      <td>433</td>\n",
       "      <td>42</td>\n",
       "      <td>crisis</td>\n",
       "      <td>negative</td>\n",
       "      <td>1</td>\n",
       "    </tr>\n",
       "    <tr>\n",
       "      <th>3</th>\n",
       "      <td>00:11</td>\n",
       "      <td>0</td>\n",
       "      <td>slow</td>\n",
       "      <td>41</td>\n",
       "      <td>53</td>\n",
       "      <td>travel,recipe,weather</td>\n",
       "      <td>positive</td>\n",
       "      <td>0</td>\n",
       "    </tr>\n",
       "    <tr>\n",
       "      <th>4</th>\n",
       "      <td>09:27</td>\n",
       "      <td>9</td>\n",
       "      <td>slow</td>\n",
       "      <td>483</td>\n",
       "      <td>19</td>\n",
       "      <td>crash,collapse,pandemic</td>\n",
       "      <td>negative</td>\n",
       "      <td>0</td>\n",
       "    </tr>\n",
       "  </tbody>\n",
       "</table>\n",
       "</div>"
      ],
      "text/plain": [
       "  time_of_day  hour scrolling_speed  num_scrolls  session_length  \\\n",
       "0       06:51     6            fast          290              76   \n",
       "1       18:22    18            fast          478              28   \n",
       "2       01:23     1            slow          433              42   \n",
       "3       00:11     0            slow           41              53   \n",
       "4       09:27     9            slow          483              19   \n",
       "\n",
       "                  keywords sentiment  doomscrolling  \n",
       "0       recipe,cat,weather  positive              0  \n",
       "1                   sports  positive              0  \n",
       "2                   crisis  negative              1  \n",
       "3    travel,recipe,weather  positive              0  \n",
       "4  crash,collapse,pandemic  negative              0  "
      ]
     },
     "execution_count": 5,
     "metadata": {},
     "output_type": "execute_result"
    }
   ],
   "source": [
    "# Parameters\n",
    "n_samples = 500\n",
    "random.seed(42)\n",
    "np.random.seed(42)\n",
    "\n",
    "# Helper functions\n",
    "def random_time():\n",
    "    hour = np.random.randint(0, 24)\n",
    "    minute = np.random.randint(0, 60)\n",
    "    return f'{hour:02d}:{minute:02d}'\n",
    "\n",
    "def random_keywords():\n",
    "    doom_words = ['war', 'crash', 'death', 'crisis', 'disaster', 'collapse', 'pandemic', 'violence']\n",
    "    neutral_words = ['cat', 'recipe', 'music', 'travel', 'sports', 'weather', 'science', 'art']\n",
    "    if np.random.rand() < 0.5:\n",
    "        return random.sample(doom_words, k=np.random.randint(1, 4))\n",
    "    else:\n",
    "        return random.sample(neutral_words, k=np.random.randint(1, 4))\n",
    "\n",
    "def sentiment_from_keywords(keywords):\n",
    "    negative = {'war', 'crash', 'death', 'crisis', 'disaster', 'collapse', 'pandemic', 'violence'}\n",
    "    score = sum(1 for k in keywords if k in negative)\n",
    "    return 'negative' if score > 0 else 'positive'\n",
    "\n",
    "data = []\n",
    "for _ in range(n_samples):\n",
    "    time_of_day = random_time()\n",
    "    hour = int(time_of_day.split(':')[0])\n",
    "    scrolling_speed = np.random.choice(['fast', 'slow'])\n",
    "    num_scrolls = np.random.randint(20, 500)\n",
    "    session_length = np.random.randint(5, 90)  # in minutes\n",
    "    keywords = random_keywords()\n",
    "    sentiment = sentiment_from_keywords(keywords)\n",
    "    # Doomscrolling label: more likely if late, negative, long session, many scrolls\n",
    "    doom = (hour >= 23 or hour <= 5) and sentiment == 'negative' and session_length > 30 and num_scrolls > 100\n",
    "    data.append({\n",
    "        'time_of_day': time_of_day,\n",
    "        'hour': hour,\n",
    "        'scrolling_speed': scrolling_speed,\n",
    "        'num_scrolls': num_scrolls,\n",
    "        'session_length': session_length,\n",
    "        'keywords': ','.join(keywords),\n",
    "        'sentiment': sentiment,\n",
    "        'doomscrolling': int(doom)\n",
    "    })\n",
    "df = pd.DataFrame(data)\n",
    "df.head()"
   ]
  },
  {
   "cell_type": "code",
   "execution_count": 6,
   "id": "38aedb48",
   "metadata": {},
   "outputs": [],
   "source": [
    "## 3. Feature Engineering"
   ]
  },
  {
   "cell_type": "code",
   "execution_count": 20,
   "id": "8e2f4ae2",
   "metadata": {},
   "outputs": [],
   "source": [
    "# Encode categorical features\n",
    "df['scrolling_speed_fast'] = (df['scrolling_speed'] == 'fast').astype(int)\n",
    "df['sentiment_negative'] = (df['sentiment'] == 'negative').astype(int)\n",
    "# Features\n",
    "features = ['hour', 'scrolling_speed_fast', 'num_scrolls', 'session_length', 'sentiment_negative']\n",
    "X = df[features]\n",
    "y = df['doomscrolling']"
   ]
  },
  {
   "cell_type": "code",
   "execution_count": 8,
   "id": "6276adf4",
   "metadata": {},
   "outputs": [],
   "source": [
    "## 4. Train/Test Split"
   ]
  },
  {
   "cell_type": "code",
   "execution_count": 9,
   "id": "df2caafb",
   "metadata": {},
   "outputs": [],
   "source": [
    "X_train, X_test, y_train, y_test = train_test_split(X, y, test_size=0.2, random_state=42)"
   ]
  },
  {
   "cell_type": "code",
   "execution_count": 10,
   "id": "7ea62193",
   "metadata": {},
   "outputs": [],
   "source": [
    "## 5. Train Model"
   ]
  },
  {
   "cell_type": "code",
   "execution_count": 21,
   "id": "03d6463f",
   "metadata": {},
   "outputs": [
    {
     "data": {
      "text/html": [
       "<style>#sk-container-id-2 {color: black;}#sk-container-id-2 pre{padding: 0;}#sk-container-id-2 div.sk-toggleable {background-color: white;}#sk-container-id-2 label.sk-toggleable__label {cursor: pointer;display: block;width: 100%;margin-bottom: 0;padding: 0.3em;box-sizing: border-box;text-align: center;}#sk-container-id-2 label.sk-toggleable__label-arrow:before {content: \"▸\";float: left;margin-right: 0.25em;color: #696969;}#sk-container-id-2 label.sk-toggleable__label-arrow:hover:before {color: black;}#sk-container-id-2 div.sk-estimator:hover label.sk-toggleable__label-arrow:before {color: black;}#sk-container-id-2 div.sk-toggleable__content {max-height: 0;max-width: 0;overflow: hidden;text-align: left;background-color: #f0f8ff;}#sk-container-id-2 div.sk-toggleable__content pre {margin: 0.2em;color: black;border-radius: 0.25em;background-color: #f0f8ff;}#sk-container-id-2 input.sk-toggleable__control:checked~div.sk-toggleable__content {max-height: 200px;max-width: 100%;overflow: auto;}#sk-container-id-2 input.sk-toggleable__control:checked~label.sk-toggleable__label-arrow:before {content: \"▾\";}#sk-container-id-2 div.sk-estimator input.sk-toggleable__control:checked~label.sk-toggleable__label {background-color: #d4ebff;}#sk-container-id-2 div.sk-label input.sk-toggleable__control:checked~label.sk-toggleable__label {background-color: #d4ebff;}#sk-container-id-2 input.sk-hidden--visually {border: 0;clip: rect(1px 1px 1px 1px);clip: rect(1px, 1px, 1px, 1px);height: 1px;margin: -1px;overflow: hidden;padding: 0;position: absolute;width: 1px;}#sk-container-id-2 div.sk-estimator {font-family: monospace;background-color: #f0f8ff;border: 1px dotted black;border-radius: 0.25em;box-sizing: border-box;margin-bottom: 0.5em;}#sk-container-id-2 div.sk-estimator:hover {background-color: #d4ebff;}#sk-container-id-2 div.sk-parallel-item::after {content: \"\";width: 100%;border-bottom: 1px solid gray;flex-grow: 1;}#sk-container-id-2 div.sk-label:hover label.sk-toggleable__label {background-color: #d4ebff;}#sk-container-id-2 div.sk-serial::before {content: \"\";position: absolute;border-left: 1px solid gray;box-sizing: border-box;top: 0;bottom: 0;left: 50%;z-index: 0;}#sk-container-id-2 div.sk-serial {display: flex;flex-direction: column;align-items: center;background-color: white;padding-right: 0.2em;padding-left: 0.2em;position: relative;}#sk-container-id-2 div.sk-item {position: relative;z-index: 1;}#sk-container-id-2 div.sk-parallel {display: flex;align-items: stretch;justify-content: center;background-color: white;position: relative;}#sk-container-id-2 div.sk-item::before, #sk-container-id-2 div.sk-parallel-item::before {content: \"\";position: absolute;border-left: 1px solid gray;box-sizing: border-box;top: 0;bottom: 0;left: 50%;z-index: -1;}#sk-container-id-2 div.sk-parallel-item {display: flex;flex-direction: column;z-index: 1;position: relative;background-color: white;}#sk-container-id-2 div.sk-parallel-item:first-child::after {align-self: flex-end;width: 50%;}#sk-container-id-2 div.sk-parallel-item:last-child::after {align-self: flex-start;width: 50%;}#sk-container-id-2 div.sk-parallel-item:only-child::after {width: 0;}#sk-container-id-2 div.sk-dashed-wrapped {border: 1px dashed gray;margin: 0 0.4em 0.5em 0.4em;box-sizing: border-box;padding-bottom: 0.4em;background-color: white;}#sk-container-id-2 div.sk-label label {font-family: monospace;font-weight: bold;display: inline-block;line-height: 1.2em;}#sk-container-id-2 div.sk-label-container {text-align: center;}#sk-container-id-2 div.sk-container {/* jupyter's `normalize.less` sets `[hidden] { display: none; }` but bootstrap.min.css set `[hidden] { display: none !important; }` so we also need the `!important` here to be able to override the default hidden behavior on the sphinx rendered scikit-learn.org. See: https://github.com/scikit-learn/scikit-learn/issues/21755 */display: inline-block !important;position: relative;}#sk-container-id-2 div.sk-text-repr-fallback {display: none;}</style><div id=\"sk-container-id-2\" class=\"sk-top-container\"><div class=\"sk-text-repr-fallback\"><pre>LogisticRegression()</pre><b>In a Jupyter environment, please rerun this cell to show the HTML representation or trust the notebook. <br />On GitHub, the HTML representation is unable to render, please try loading this page with nbviewer.org.</b></div><div class=\"sk-container\" hidden><div class=\"sk-item\"><div class=\"sk-estimator sk-toggleable\"><input class=\"sk-toggleable__control sk-hidden--visually\" id=\"sk-estimator-id-2\" type=\"checkbox\" checked><label for=\"sk-estimator-id-2\" class=\"sk-toggleable__label sk-toggleable__label-arrow\">LogisticRegression</label><div class=\"sk-toggleable__content\"><pre>LogisticRegression()</pre></div></div></div></div></div>"
      ],
      "text/plain": [
       "LogisticRegression()"
      ]
     },
     "execution_count": 21,
     "metadata": {},
     "output_type": "execute_result"
    }
   ],
   "source": [
    "model = LogisticRegression()\n",
    "model.fit(X_train, y_train)"
   ]
  },
  {
   "cell_type": "code",
   "execution_count": 12,
   "id": "7ca8f9de",
   "metadata": {},
   "outputs": [],
   "source": [
    "## 6. Evaluate Model"
   ]
  },
  {
   "cell_type": "code",
   "execution_count": 13,
   "id": "28c46b1f",
   "metadata": {
    "scrolled": true
   },
   "outputs": [
    {
     "name": "stdout",
     "output_type": "stream",
     "text": [
      "              precision    recall  f1-score   support\n",
      "\n",
      "           0       0.94      1.00      0.97        88\n",
      "           1       1.00      0.50      0.67        12\n",
      "\n",
      "    accuracy                           0.94       100\n",
      "   macro avg       0.97      0.75      0.82       100\n",
      "weighted avg       0.94      0.94      0.93       100\n",
      "\n",
      "Confusion Matrix:\n",
      "[[88  0]\n",
      " [ 6  6]]\n"
     ]
    }
   ],
   "source": [
    "y_pred = model.predict(X_test)\n",
    "print(classification_report(y_test, y_pred))\n",
    "print('Confusion Matrix:')\n",
    "print(confusion_matrix(y_test, y_pred))"
   ]
  },
  {
   "cell_type": "code",
   "execution_count": 18,
   "id": "d00b2931",
   "metadata": {},
   "outputs": [],
   "source": [
    "## 7. Demo: Predict and Alert"
   ]
  },
  {
   "cell_type": "code",
   "execution_count": null,
   "id": "26778457",
   "metadata": {},
   "outputs": [
    {
     "name": "stdout",
     "output_type": "stream",
     "text": [
      "Session:\n",
      "time_of_day scrolling_speed  num_scrolls  session_length keywords sentiment\n",
      "      01:08            fast          312              24    death  negative\n",
      "👍 You're not doomscrolling!\n"
     ]
    }
   ],
   "source": [
    "# Pick a random session\n",
    "sample = df.sample(1)\n",
    "sample_X = sample[features]\n",
    "pred = model.predict(sample_X)[0]\n",
    "print('Session:')\n",
    "print(sample[['time_of_day', 'scrolling_speed', 'num_scrolls', 'session_length', 'keywords', 'sentiment']].to_string(index=False))\n",
    "if pred == 1:\n",
    "    print('⚠️  You\\'ve been scrolling negative content for a while — take a break?')\n",
    "else:\n",
    "    print('👍 You\\'re not doomscrolling!')"
   ]
  }
 ],
 "metadata": {
  "kernelspec": {
   "display_name": "Python 3 (ipykernel)",
   "language": "python",
   "name": "python3"
  },
  "language_info": {
   "codemirror_mode": {
    "name": "ipython",
    "version": 3
   },
   "file_extension": ".py",
   "mimetype": "text/x-python",
   "name": "python",
   "nbconvert_exporter": "python",
   "pygments_lexer": "ipython3",
   "version": "3.8.13"
  }
 },
 "nbformat": 4,
 "nbformat_minor": 5
}
